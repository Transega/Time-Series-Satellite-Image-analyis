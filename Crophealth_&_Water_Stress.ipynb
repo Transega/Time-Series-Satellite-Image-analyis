{
  "cells": [
    {
      "cell_type": "markdown",
      "metadata": {
        "id": "view-in-github",
        "colab_type": "text"
      },
      "source": [
        "<a href=\"https://colab.research.google.com/github/Transega/Time-Series-Satellite-Image-analyis/blob/main/Crophealth_%26_Water_Stress.ipynb\" target=\"_parent\"><img src=\"https://colab.research.google.com/assets/colab-badge.svg\" alt=\"Open In Colab\"/></a>"
      ]
    },
    {
      "cell_type": "markdown",
      "source": [
        "Install packages and Authenticate GEE"
      ],
      "metadata": {
        "id": "BhjtEIsYjYRM"
      }
    },
    {
      "cell_type": "code",
      "execution_count": 93,
      "metadata": {
        "id": "oa-FFHwrg7pZ"
      },
      "outputs": [],
      "source": [
        "# Installs geemap package\n",
        "import subprocess\n",
        " \n",
        "try:\n",
        "    import geemap\n",
        "    import geopandas as gpd\n",
        "    import numpy as np\n",
        "    import folium\n",
        "    import rasterio\n",
        "    import tensorflow\n",
        "except ImportError:\n",
        "    print('geemap package not installed. Installing ...')\n",
        "    subprocess.check_call([\"python\", '-m', 'pip', 'install', 'geemap'])\n",
        "    subprocess.check_call([\"python\", '-m', 'pip', 'install', 'geopandas'])\n",
        "    subprocess.check_call([\"python\", '-m', 'pip', 'install', 'folium'])\n",
        "    subprocess.check_call([\"python\", '-m', 'pip', 'install', \"rasterio\"])\n",
        "    subprocess.check_call([\"python\", '-m', 'pip', 'install', \"tensorflow\"])\n",
        " \n",
        "# Checks whether this notebook is running on Google Colab\n",
        "try:\n",
        "    import google.colab\n",
        "    import geemap.eefolium as geemap\n",
        "except:\n",
        "    import geemap\n",
        " \n",
        "# Authenticates and initializes Earth Engine\n",
        "import ee\n",
        "import pandas as pd\n",
        " \n",
        "try:\n",
        "    ee.Initialize()\n",
        "except Exception as e:\n",
        "    ee.Authenticate()\n",
        "    ee.Initialize()"
      ]
    },
    {
      "cell_type": "code",
      "execution_count": null,
      "metadata": {
        "id": "W8A0eP1KClkP"
      },
      "outputs": [],
      "source": [
        "from ee.ee_exception import EEException\n",
        "import logging\n",
        "log = logging.getLogger(__name__)"
      ]
    },
    {
      "cell_type": "markdown",
      "source": [
        "Area of interest and other gee Assets"
      ],
      "metadata": {
        "id": "6M2QZSG6j7bm"
      }
    },
    {
      "cell_type": "code",
      "execution_count": null,
      "metadata": {
        "id": "Gk1IBsX2lY2T"
      },
      "outputs": [],
      "source": [
        "IGAD = ee.FeatureCollection(\"users/collinsasegaca/TROFMIS_Forest_specific_AOI\")\n",
        "geometry = IGAD.filter(ee.Filter.eq('FOREST_NAM', 'Kakamega'))\n",
        "\n",
        "kenyaCounties = ee.FeatureCollection('users/collinsasegaca/KenyaCountie')\n",
        "\n",
        "kakamegaCounty = kenyaCounties.filter(ee.Filter.eq('CountyName', 'Uasin Gishu'))\n",
        "# esri land cover \n",
        "esri_lulc10 = ee.ImageCollection(\"projects/sat-io/open-datasets/landcover/ESRI_Global-LULC_10m\").mosaic();\n",
        "croplandsEsri = esri_lulc10.updateMask(esri_lulc10.gte(4).And(esri_lulc10.lte(5)))"
      ]
    },
    {
      "cell_type": "markdown",
      "source": [
        "**Functions **"
      ],
      "metadata": {
        "id": "0vN-ZTBWkYTE"
      }
    },
    {
      "cell_type": "code",
      "source": [
        "# nested Function\n",
        "def updateImageswithCropMask(cropMask):\n",
        "  \"\"\"This funtion returns updated image masked to cropland areas\"\"\"\n",
        "  def updated(Im):\n",
        "    return Im.updateMask(cropMask).copyProperties(Im)\n",
        "\n",
        "  return updated\n",
        "  \n",
        "  "
      ],
      "metadata": {
        "id": "Ke6ASXiBx5Je"
      },
      "execution_count": null,
      "outputs": []
    },
    {
      "cell_type": "code",
      "execution_count": null,
      "metadata": {
        "id": "7sM4XiPmhS78"
      },
      "outputs": [],
      "source": [
        "def maskCloudAndShadowsSR(image):\n",
        "  \"\"\"This function return cloud masked images for Sentinel 2\"\"\"\n",
        "  cloudProb = image.select('MSK_CLDPRB')\n",
        "  snowProb = image.select('MSK_SNWPRB')\n",
        "  cloud = cloudProb.lt(10)\n",
        "  scl = image.select('SCL')\n",
        "  shadow = scl.eq(3); #// 3 = cloud shadow\n",
        "  cirrus = scl.eq(10); #// 10 = cirrus\n",
        "  # // Cloud probability less than 10% or cloud shadow classification\n",
        "  mask = cloud.And(cirrus.neq(1)).And(shadow.neq(1))\n",
        "  return image.updateMask(mask)# //.divide(10000);\n",
        "\n",
        "\n"
      ]
    },
    {
      "cell_type": "code",
      "execution_count": null,
      "metadata": {
        "id": "70-PAyEy66zT"
      },
      "outputs": [],
      "source": [
        "def NDVI(image):\n",
        "    \"\"\"This function returns NDVI given\"\"\"\n",
        "    ndvi = image.normalizedDifference(['NIR','RED']).rename('NDVI')\n",
        "    # colle = image.addBands(ndvi)\n",
        "    # ndvi_onely = colle.select('ndviS2')\n",
        "    return image.addBands(ndvi)\n",
        "\n",
        "\n",
        "def image_to_map_id(image_name, vis_params={}):\n",
        "    \"\"\"\n",
        "    this function returns map_id parameters with the image url\n",
        "    \"\"\"\n",
        "    try:\n",
        "        ee_image = ee.Image(image_name)\n",
        "        map_id = ee_image.getMapId(vis_params)\n",
        "        tile_url = map_id['tile_fetcher'].url_format\n",
        "        return tile_url\n",
        "\n",
        "    except EEException:\n",
        "        log.exception(\n",
        "            'An error occurred while attempting to retrieve the map id.')"
      ]
    },
    {
      "cell_type": "code",
      "execution_count": null,
      "metadata": {
        "id": "VNVn1lo1T2hx"
      },
      "outputs": [],
      "source": [
        "def stats(image,geometry, scale, date):\n",
        "  \"\"\"This function returns an image with statistics\"\"\"\n",
        "  the_reducer = getattr(ee.Reducer, 'mean')()\n",
        "  index_value = image.reduceRegion(\n",
        "the_reducer, geometry, scale=100, maxPixels=1e13)\n",
        " \n",
        "  \n",
        "  # index_image = ee.Image().set(\n",
        "  #           'indexValue', [ee.Number(date), index_value])\n",
        "  index_dic = dict(indexValue=[date,index_value.getInfo()])\n",
        "  # print(index_dic.get('indexValue'))\n",
        "  # print(index_image.get('indexValue').getInfo(), 'image')\n",
        "  \n",
        "  return index_dic\n",
        "\n",
        "\n",
        "def renamebandsS2(image):\n",
        "    \"\"\"this function used to rename band names for sentinel 2 images\"\"\"\n",
        "    reneamed = image.select(['B3','B2','B4', 'B8', 'B11','B12'], ['Green','Blue','RED', 'NIR','SWIR1','SWIR2'])\n",
        "    return reneamed\n"
      ]
    },
    {
      "cell_type": "markdown",
      "metadata": {
        "id": "shh2yRoujlSl"
      },
      "source": [
        "apply cloud masking"
      ]
    },
    {
      "cell_type": "code",
      "execution_count": null,
      "metadata": {
        "id": "ZOLZjdHbjnyT"
      },
      "outputs": [],
      "source": [
        "\n",
        "# apply cloud masking \n",
        "\n",
        "s2CloudMasked = ee.ImageCollection(\"COPERNICUS/S2_SR\").map(maskCloudAndShadowsSR).map(renamebandsS2).map(NDVI)\n",
        "\n",
        "# update the images to croplands \n",
        "\n",
        "\n",
        "updated1 = s2CloudMasked.map(updateImageswithCropMask(croplandsEsri)) \n",
        "\n",
        "# Test for Kakamega county \n",
        "\n",
        "kakamegaCroplands = updated1.filter(ee.Filter.date('2022-01-01', '2022-03-28')).median().clip(kakamegaCounty)"
      ]
    },
    {
      "cell_type": "code",
      "execution_count": null,
      "metadata": {
        "id": "Y9Pdz4MDgro0"
      },
      "outputs": [],
      "source": [
        "# Visualization parameters for NDVI\n",
        "vis = {\n",
        "              'min': 0.0,\n",
        "                    'max': 1.0,\n",
        "                    'palette': [\n",
        "                        'FFFFFF', 'CE7E45', 'DF923D', 'F1B555', 'FCD163', '99B718', '74A901',\n",
        "                        '66A000', '529400', '3E8601', '207401', '056201', '004C00', '023B01',\n",
        "                        '012E01', '011D01', '011301'\n",
        "                    ],\n",
        "          }\n"
      ]
    },
    {
      "cell_type": "markdown",
      "source": [
        "Working with Dates to generate Bi-Weekly Dates "
      ],
      "metadata": {
        "id": "jh9Hr1BPmta1"
      }
    },
    {
      "cell_type": "code",
      "execution_count": null,
      "metadata": {
        "id": "8A1F68mUo33m"
      },
      "outputs": [],
      "source": [
        "startDate = '2021-03-01';\n",
        "endDate = '2021-11-30';\n",
        "weekDifference = ee.Date(startDate).advance(2, 'week').millis().subtract(ee.Date(startDate).millis());\n",
        "listMap = ee.List.sequence(ee.Date(startDate).millis(), ee.Date(endDate).millis(), weekDifference);\n",
        "\n",
        "biweeklydates = listMap.getInfo()\n",
        "\n"
      ]
    },
    {
      "cell_type": "code",
      "execution_count": null,
      "metadata": {
        "id": "LMIKgKI95FDF"
      },
      "outputs": [],
      "source": [
        "# biweeklydates"
      ]
    },
    {
      "cell_type": "code",
      "execution_count": null,
      "metadata": {
        "id": "d5xMdqGx46wI"
      },
      "outputs": [],
      "source": [
        "# biweeklydates.index(biweeklydates[-1])"
      ]
    },
    {
      "cell_type": "code",
      "execution_count": null,
      "metadata": {
        "id": "L04cMod5hkwJ"
      },
      "outputs": [],
      "source": [
        "date_from, date_to = startDate, endDate\n",
        "\n",
        "eedates = ee.Filter.date(date_from, date_to)\n",
        "\n",
        "ndvi = s2CloudMasked\n",
        "ndvitest = ndvi.filter(eedates).median().clip(geometry)\n",
        "\n",
        "date1 = ee.Date(biweeklydates[1])\n",
        "\n",
        "ndvi2 = ndvi.filterDate(date1, date1.advance(2, 'week')).median().clip(geometry)\n"
      ]
    },
    {
      "cell_type": "markdown",
      "metadata": {
        "id": "1zMGuLGYvETY"
      },
      "source": [
        "iterate over the dates and generate image urls and statistics"
      ]
    },
    {
      "cell_type": "code",
      "execution_count": null,
      "metadata": {
        "id": "bT4Bz6wTB6c-",
        "colab": {
          "base_uri": "https://localhost:8080/"
        },
        "outputId": "5a4ccf1d-1cac-4ee5-bbe9-9304ed63d34e"
      },
      "outputs": [
        {
          "output_type": "stream",
          "name": "stdout",
          "text": [
            "Program Executed in 66.83425323099982\n"
          ]
        }
      ],
      "source": [
        "import timeit\n",
        "\n",
        "start = timeit.default_timer()\n",
        "# All the program statements\n",
        "\n",
        "\n",
        "image_urls = []\n",
        "#  Median image for startdate and End date \n",
        "longTermMedian = updated1.filter(eedates).median().clip(kakamegaCounty).select('NDVI')\n",
        "# Generate image Url for the Long term url\n",
        "longtermUrl = image_to_map_id(longTermMedian, vis)\n",
        "# add the url to the list of URLs\n",
        "image_urls.append(dict(Time=date_from+'_to_'+date_to,imageurl=longtermUrl))\n",
        "\n",
        "statistics = []\n",
        "statsLongTerm = stats(longTermMedian,kakamegaCounty.geometry(), 10, biweeklydates[-1])\n",
        "valueLongTerm = statsLongTerm.get('indexValue') #.getInfo()\n",
        "statistics.append(dict(Time=date_from+'_to_'+date_to, NDVI=valueLongTerm[1]['NDVI']))\n",
        "\n",
        "\n",
        "\n",
        "for date in biweeklydates:\n",
        "  eeDate = ee.Date(date)\n",
        "  biweeklyndvi = updated1.filterDate(eeDate, eeDate.advance(2, 'week')).median().clip(kakamegaCounty).select('NDVI')\n",
        "  image_statistics = stats(biweeklyndvi,kakamegaCounty.geometry(), 10, date)\n",
        "\n",
        "# imageValue = image_d.aggregate_array('indexValue')\n",
        "  \n",
        "  stat = image_statistics.get('indexValue') #.getInfo()\n",
        "  statistics.append({'Time':stat[0], 'NDVI':stat[1]['NDVI']})\n",
        "\n",
        "\n",
        "  imageUrl = image_to_map_id(biweeklyndvi, vis)\n",
        "\n",
        "  image_urls.append({'Time':date,'image_url':imageUrl})\n",
        "\n",
        "\n",
        "stop = timeit.default_timer()\n",
        "execution_time = stop - start\n",
        "\n",
        "print(\"Program Executed in \"+str(execution_time)) # It returns time in seconds\n",
        "\n"
      ]
    },
    {
      "cell_type": "code",
      "execution_count": null,
      "metadata": {
        "colab": {
          "base_uri": "https://localhost:8080/"
        },
        "id": "aauAwHPEohQl",
        "outputId": "17b2b73b-fa51-4bc0-e3cd-f003972d489d"
      },
      "outputs": [
        {
          "output_type": "stream",
          "name": "stdout",
          "text": [
            "21\n"
          ]
        },
        {
          "output_type": "execute_result",
          "data": {
            "text/plain": [
              "[{'NDVI': 0.5417427731360108, 'Time': '2020-02-01_to_2020-11-30'},\n",
              " {'NDVI': 0.3261553423019795, 'Time': 1614556800000},\n",
              " {'NDVI': 0.2860131863811517, 'Time': 1615766400000},\n",
              " {'NDVI': 0.29895258619299975, 'Time': 1616976000000},\n",
              " {'NDVI': 0.2848687276433208, 'Time': 1618185600000},\n",
              " {'NDVI': 0.37820134955230267, 'Time': 1619395200000},\n",
              " {'NDVI': 0.5116557285739382, 'Time': 1620604800000},\n",
              " {'NDVI': 0.595581540292084, 'Time': 1621814400000},\n",
              " {'NDVI': 0.5767566087158283, 'Time': 1623024000000},\n",
              " {'NDVI': 0.5179870517804197, 'Time': 1624233600000},\n",
              " {'NDVI': 0.5058455955632338, 'Time': 1625443200000},\n",
              " {'NDVI': 0.5978608969296249, 'Time': 1626652800000},\n",
              " {'NDVI': 0.6300979306341414, 'Time': 1627862400000},\n",
              " {'NDVI': 0.7052314598998846, 'Time': 1629072000000},\n",
              " {'NDVI': 0.5308898405214112, 'Time': 1630281600000},\n",
              " {'NDVI': 0.6703024468549571, 'Time': 1631491200000},\n",
              " {'NDVI': 0.566614983623472, 'Time': 1632700800000},\n",
              " {'NDVI': 0.5539765868877035, 'Time': 1633910400000},\n",
              " {'NDVI': 0.525768161207907, 'Time': 1635120000000},\n",
              " {'NDVI': 0.5200308404256802, 'Time': 1636329600000},\n",
              " {'NDVI': 0.4546126514734194, 'Time': 1637539200000}]"
            ]
          },
          "metadata": {},
          "execution_count": 60
        }
      ],
      "source": [
        "print(len(statistics))\n",
        "statistics"
      ]
    },
    {
      "cell_type": "code",
      "execution_count": null,
      "metadata": {
        "id": "Wo0y8VQ2O9c3",
        "colab": {
          "base_uri": "https://localhost:8080/"
        },
        "outputId": "528fe8ea-817c-4192-8e21-17dc64406a89"
      },
      "outputs": [
        {
          "output_type": "stream",
          "name": "stdout",
          "text": [
            "10\n"
          ]
        },
        {
          "output_type": "execute_result",
          "data": {
            "text/plain": [
              "[{'Time': '2021-03-01_to_2021-06-30',\n",
              "  'imageurl': 'https://earthengine.googleapis.com/v1alpha/projects/earthengine-legacy/maps/46ea5b2c0aab1f0d6fd45444c8057894-f86265660f3a766cb18860573b427a58/tiles/{z}/{x}/{y}'},\n",
              " {'Time': 1614556800000,\n",
              "  'image_url': 'https://earthengine.googleapis.com/v1alpha/projects/earthengine-legacy/maps/db5745fdcb5128831c077f4d519a5b47-dbe01ba028e42d896d45d09046591f53/tiles/{z}/{x}/{y}'},\n",
              " {'Time': 1615766400000,\n",
              "  'image_url': 'https://earthengine.googleapis.com/v1alpha/projects/earthengine-legacy/maps/051e4f7d442d40b46e11f28fd9092716-5590889e4561c2244646a5fab2620884/tiles/{z}/{x}/{y}'},\n",
              " {'Time': 1616976000000,\n",
              "  'image_url': 'https://earthengine.googleapis.com/v1alpha/projects/earthengine-legacy/maps/3258a9dfa7c33ac4849829b4544aee95-bb69aef111824dafd6008ad9f767942f/tiles/{z}/{x}/{y}'},\n",
              " {'Time': 1618185600000,\n",
              "  'image_url': 'https://earthengine.googleapis.com/v1alpha/projects/earthengine-legacy/maps/fcb2b2db4a99900db8c5d3faa7bbc615-a45a86f088c313164e720f01e5005088/tiles/{z}/{x}/{y}'},\n",
              " {'Time': 1619395200000,\n",
              "  'image_url': 'https://earthengine.googleapis.com/v1alpha/projects/earthengine-legacy/maps/0d67534faa4fffe497a1b3454cf06304-e645513a265b470c7969247c33523ebe/tiles/{z}/{x}/{y}'},\n",
              " {'Time': 1620604800000,\n",
              "  'image_url': 'https://earthengine.googleapis.com/v1alpha/projects/earthengine-legacy/maps/de9fddd5e9f49709e3df77422b2934d2-9df9bd507a48782aa6265c2e067d58d5/tiles/{z}/{x}/{y}'},\n",
              " {'Time': 1621814400000,\n",
              "  'image_url': 'https://earthengine.googleapis.com/v1alpha/projects/earthengine-legacy/maps/ca130fbeacaf3652a9613644894bb3ba-be96f339523a0efc6103c3efe892fc9e/tiles/{z}/{x}/{y}'},\n",
              " {'Time': 1623024000000,\n",
              "  'image_url': 'https://earthengine.googleapis.com/v1alpha/projects/earthengine-legacy/maps/21734b1804bf3823233168196c9d8683-7f55425ab476c85f93660c38fb6666aa/tiles/{z}/{x}/{y}'},\n",
              " {'Time': 1624233600000,\n",
              "  'image_url': 'https://earthengine.googleapis.com/v1alpha/projects/earthengine-legacy/maps/d4657c918ed18c929fef1b1805deb464-96ff54f2073103f3bd004c5136efe142/tiles/{z}/{x}/{y}'}]"
            ]
          },
          "metadata": {},
          "execution_count": 14
        }
      ],
      "source": [
        "print(len(image_urls)) \n",
        "image_urls"
      ]
    },
    {
      "cell_type": "markdown",
      "source": [
        "# **Logic for checking crop Condition from the Statistics**\n",
        "![image.png](data:image/png;base64,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)"
      ],
      "metadata": {
        "id": "klVdKlB2nLJL"
      }
    },
    {
      "cell_type": "markdown",
      "source": [
        "What we need is an array(list) with arrays inside with four items inside                \n",
        "*for instance*`[['date1','date2','stage','condition'], ['date1','date2','stage','condition']]`\n",
        "\n",
        "In this case we need a way of iterating over the stats and picking the dates, determine the crop stage pick the corresponding ndvi(index) values do a mean for the selected values check against the threshold and determine the crop condtion\n"
      ],
      "metadata": {
        "id": "YNJPbC4-qRB-"
      }
    },
    {
      "cell_type": "code",
      "source": [
        "a =   statistics\n",
        "pair  = []\n",
        "\n",
        "condition = ['Emergence', 'Maturity', 'Harvest']\n",
        "\n",
        "for previous, current in zip(a, a[1:]):\n",
        "  pair.append([previous, current])\n",
        "  for i in condition:\n",
        "  #  pair[0].append(i)\n",
        "    pass\n",
        "  # print(previous, current)\n",
        "pair"
      ],
      "metadata": {
        "colab": {
          "base_uri": "https://localhost:8080/"
        },
        "id": "kfIMZgRdnJGj",
        "outputId": "5fde9d25-b750-4868-eadd-ab77af5f4dee"
      },
      "execution_count": null,
      "outputs": [
        {
          "output_type": "execute_result",
          "data": {
            "text/plain": [
              "[[{'NDVI': 0.6162034589058274, 'Time': '2020-03-01_to_2020-06-30'},\n",
              "  {'NDVI': 0.5168865105122926, 'Time': 1583020800000}],\n",
              " [{'NDVI': 0.5168865105122926, 'Time': 1583020800000},\n",
              "  {'NDVI': 0.5326725686637911, 'Time': 1584230400000}],\n",
              " [{'NDVI': 0.5326725686637911, 'Time': 1584230400000},\n",
              "  {'NDVI': 0.5361016991607755, 'Time': 1585440000000}],\n",
              " [{'NDVI': 0.5361016991607755, 'Time': 1585440000000},\n",
              "  {'NDVI': 0.5581999736159575, 'Time': 1586649600000}],\n",
              " [{'NDVI': 0.5581999736159575, 'Time': 1586649600000},\n",
              "  {'NDVI': 0.6338809663090246, 'Time': 1587859200000}],\n",
              " [{'NDVI': 0.6338809663090246, 'Time': 1587859200000},\n",
              "  {'NDVI': 0.6768245952300064, 'Time': 1589068800000}],\n",
              " [{'NDVI': 0.6768245952300064, 'Time': 1589068800000},\n",
              "  {'NDVI': 0.6673978778389266, 'Time': 1590278400000}],\n",
              " [{'NDVI': 0.6673978778389266, 'Time': 1590278400000},\n",
              "  {'NDVI': 0.6368656469756506, 'Time': 1591488000000}],\n",
              " [{'NDVI': 0.6368656469756506, 'Time': 1591488000000},\n",
              "  {'NDVI': 0.6781285925821374, 'Time': 1592697600000}]]"
            ]
          },
          "metadata": {},
          "execution_count": 37
        }
      ]
    },
    {
      "cell_type": "code",
      "source": [
        "for i in pair:\n",
        "  i.append('date')\n",
        "  print(i)\n"
      ],
      "metadata": {
        "colab": {
          "base_uri": "https://localhost:8080/"
        },
        "id": "Tl4WPo6VKdB0",
        "outputId": "2e581be6-a1dd-4ced-cc6d-4b1dbc6d21bf"
      },
      "execution_count": null,
      "outputs": [
        {
          "output_type": "stream",
          "name": "stdout",
          "text": [
            "[5, 7, 'date', 'date']\n",
            "[7, 11, 'date', 'date']\n",
            "[11, 4, 'date', 'date']\n",
            "[4, 5, 'date', 'date']\n"
          ]
        }
      ]
    },
    {
      "cell_type": "markdown",
      "source": [
        "Visualize "
      ],
      "metadata": {
        "id": "d0GGnyRepxd8"
      }
    },
    {
      "cell_type": "code",
      "execution_count": null,
      "metadata": {
        "colab": {
          "base_uri": "https://localhost:8080/",
          "height": 1000
        },
        "id": "Qr4VNMetjRgN",
        "outputId": "56b77999-8a76-4b1e-b057-e6bfcca9b964"
      },
      "outputs": [
        {
          "output_type": "execute_result",
          "data": {
            "text/plain": [
              "<geemap.eefolium.Map at 0x7f5d10b481d0>"
            ],
            "text/html": [
              "<div style=\"width:100%;\"><div style=\"position:relative;width:100%;height:0;padding-bottom:60%;\"><span style=\"color:#565656\">Make this Notebook Trusted to load map: File -> Trust Notebook</span><iframe src=\"about:blank\" style=\"position:absolute;width:100%;height:100%;left:0;top:0;border:none !important;\" data-html=%3C%21DOCTYPE%20html%3E%0A%3Chead%3E%20%20%20%20%0A%20%20%20%20%3Cmeta%20http-equiv%3D%22content-type%22%20content%3D%22text/html%3B%20charset%3DUTF-8%22%20/%3E%0A%20%20%20%20%0A%20%20%20%20%20%20%20%20%3Cscript%3E%0A%20%20%20%20%20%20%20%20%20%20%20%20L_NO_TOUCH%20%3D%20false%3B%0A%20%20%20%20%20%20%20%20%20%20%20%20L_DISABLE_3D%20%3D%20false%3B%0A%20%20%20%20%20%20%20%20%3C/script%3E%0A%20%20%20%20%0A%20%20%20%20%3Cstyle%3Ehtml%2C%20body%20%7Bwidth%3A%20100%25%3Bheight%3A%20100%25%3Bmargin%3A%200%3Bpadding%3A%200%3B%7D%3C/style%3E%0A%20%20%20%20%3Cstyle%3E%23map%20%7Bposition%3Aabsolute%3Btop%3A0%3Bbottom%3A0%3Bright%3A0%3Bleft%3A0%3B%7D%3C/style%3E%0A%20%20%20%20%3Cscript%20src%3D%22https%3A//cdn.jsdelivr.net/npm/leaflet%401.6.0/dist/leaflet.js%22%3E%3C/script%3E%0A%20%20%20%20%3Cscript%20src%3D%22https%3A//code.jquery.com/jquery-1.12.4.min.js%22%3E%3C/script%3E%0A%20%20%20%20%3Cscript%20src%3D%22https%3A//maxcdn.bootstrapcdn.com/bootstrap/3.2.0/js/bootstrap.min.js%22%3E%3C/script%3E%0A%20%20%20%20%3Cscript%20src%3D%22https%3A//cdnjs.cloudflare.com/ajax/libs/Leaflet.awesome-markers/2.0.2/leaflet.awesome-markers.js%22%3E%3C/script%3E%0A%20%20%20%20%3Clink%20rel%3D%22stylesheet%22%20href%3D%22https%3A//cdn.jsdelivr.net/npm/leaflet%401.6.0/dist/leaflet.css%22/%3E%0A%20%20%20%20%3Clink%20rel%3D%22stylesheet%22%20href%3D%22https%3A//maxcdn.bootstrapcdn.com/bootstrap/3.2.0/css/bootstrap.min.css%22/%3E%0A%20%20%20%20%3Clink%20rel%3D%22stylesheet%22%20href%3D%22https%3A//maxcdn.bootstrapcdn.com/bootstrap/3.2.0/css/bootstrap-theme.min.css%22/%3E%0A%20%20%20%20%3Clink%20rel%3D%22stylesheet%22%20href%3D%22https%3A//maxcdn.bootstrapcdn.com/font-awesome/4.6.3/css/font-awesome.min.css%22/%3E%0A%20%20%20%20%3Clink%20rel%3D%22stylesheet%22%20href%3D%22https%3A//cdnjs.cloudflare.com/ajax/libs/Leaflet.awesome-markers/2.0.2/leaflet.awesome-markers.css%22/%3E%0A%20%20%20%20%3Clink%20rel%3D%22stylesheet%22%20href%3D%22https%3A//cdn.jsdelivr.net/gh/python-visualization/folium/folium/templates/leaflet.awesome.rotate.min.css%22/%3E%0A%20%20%20%20%0A%20%20%20%20%20%20%20%20%20%20%20%20%3Cmeta%20name%3D%22viewport%22%20content%3D%22width%3Ddevice-width%2C%0A%20%20%20%20%20%20%20%20%20%20%20%20%20%20%20%20initial-scale%3D1.0%2C%20maximum-scale%3D1.0%2C%20user-scalable%3Dno%22%20/%3E%0A%20%20%20%20%20%20%20%20%20%20%20%20%3Cstyle%3E%0A%20%20%20%20%20%20%20%20%20%20%20%20%20%20%20%20%23map_cfd9ebe7f66f48a8afee2d671842df8a%20%7B%0A%20%20%20%20%20%20%20%20%20%20%20%20%20%20%20%20%20%20%20%20position%3A%20relative%3B%0A%20%20%20%20%20%20%20%20%20%20%20%20%20%20%20%20%20%20%20%20width%3A%20100.0%25%3B%0A%20%20%20%20%20%20%20%20%20%20%20%20%20%20%20%20%20%20%20%20height%3A%20100.0%25%3B%0A%20%20%20%20%20%20%20%20%20%20%20%20%20%20%20%20%20%20%20%20left%3A%200.0%25%3B%0A%20%20%20%20%20%20%20%20%20%20%20%20%20%20%20%20%20%20%20%20top%3A%200.0%25%3B%0A%20%20%20%20%20%20%20%20%20%20%20%20%20%20%20%20%7D%0A%20%20%20%20%20%20%20%20%20%20%20%20%3C/style%3E%0A%20%20%20%20%20%20%20%20%0A%20%20%20%20%3Cscript%20src%3D%22https%3A//cdnjs.cloudflare.com/ajax/libs/leaflet.fullscreen/1.4.2/Control.FullScreen.min.js%22%3E%3C/script%3E%0A%20%20%20%20%3Clink%20rel%3D%22stylesheet%22%20href%3D%22https%3A//cdnjs.cloudflare.com/ajax/libs/leaflet.fullscreen/1.4.2/Control.FullScreen.min.css%22/%3E%0A%3C/head%3E%0A%3Cbody%3E%20%20%20%20%0A%20%20%20%20%0A%20%20%20%20%20%20%20%20%20%20%20%20%3Cdiv%20class%3D%22folium-map%22%20id%3D%22map_cfd9ebe7f66f48a8afee2d671842df8a%22%20%3E%3C/div%3E%0A%20%20%20%20%20%20%20%20%0A%3C/body%3E%0A%3Cscript%3E%20%20%20%20%0A%20%20%20%20%0A%20%20%20%20%20%20%20%20%20%20%20%20var%20map_cfd9ebe7f66f48a8afee2d671842df8a%20%3D%20L.map%28%0A%20%20%20%20%20%20%20%20%20%20%20%20%20%20%20%20%22map_cfd9ebe7f66f48a8afee2d671842df8a%22%2C%0A%20%20%20%20%20%20%20%20%20%20%20%20%20%20%20%20%7B%0A%20%20%20%20%20%20%20%20%20%20%20%20%20%20%20%20%20%20%20%20center%3A%20%5B20.0%2C%200.0%5D%2C%0A%20%20%20%20%20%20%20%20%20%20%20%20%20%20%20%20%20%20%20%20crs%3A%20L.CRS.EPSG3857%2C%0A%20%20%20%20%20%20%20%20%20%20%20%20%20%20%20%20%20%20%20%20zoom%3A%202%2C%0A%20%20%20%20%20%20%20%20%20%20%20%20%20%20%20%20%20%20%20%20zoomControl%3A%20true%2C%0A%20%20%20%20%20%20%20%20%20%20%20%20%20%20%20%20%20%20%20%20preferCanvas%3A%20false%2C%0A%20%20%20%20%20%20%20%20%20%20%20%20%20%20%20%20%20%20%20%20eeInitialize%3A%20true%2C%0A%20%20%20%20%20%20%20%20%20%20%20%20%20%20%20%20%20%20%20%20addGoogleMap%3A%20true%2C%0A%20%20%20%20%20%20%20%20%20%20%20%20%20%20%20%20%20%20%20%20pluginLatlngpopup%3A%20true%2C%0A%20%20%20%20%20%20%20%20%20%20%20%20%20%20%20%20%20%20%20%20pluginFullscreen%3A%20true%2C%0A%20%20%20%20%20%20%20%20%20%20%20%20%20%20%20%20%20%20%20%20pluginDraw%3A%20false%2C%0A%20%20%20%20%20%20%20%20%20%20%20%20%20%20%20%20%20%20%20%20DrawExport%3A%20true%2C%0A%20%20%20%20%20%20%20%20%20%20%20%20%20%20%20%20%20%20%20%20pluginMinimap%3A%20false%2C%0A%20%20%20%20%20%20%20%20%20%20%20%20%20%20%20%20%20%20%20%20pluginLayercontrol%3A%20false%2C%0A%20%20%20%20%20%20%20%20%20%20%20%20%20%20%20%20%7D%0A%20%20%20%20%20%20%20%20%20%20%20%20%29%3B%0A%0A%20%20%20%20%20%20%20%20%20%20%20%20%0A%0A%20%20%20%20%20%20%20%20%0A%20%20%20%20%0A%20%20%20%20%20%20%20%20%20%20%20%20var%20tile_layer_02c827dd39d24b7faaccd92c3e9320b0%20%3D%20L.tileLayer%28%0A%20%20%20%20%20%20%20%20%20%20%20%20%20%20%20%20%22https%3A//%7Bs%7D.tile.openstreetmap.org/%7Bz%7D/%7Bx%7D/%7By%7D.png%22%2C%0A%20%20%20%20%20%20%20%20%20%20%20%20%20%20%20%20%7B%22attribution%22%3A%20%22Data%20by%20%5Cu0026copy%3B%20%5Cu003ca%20href%3D%5C%22http%3A//openstreetmap.org%5C%22%5Cu003eOpenStreetMap%5Cu003c/a%5Cu003e%2C%20under%20%5Cu003ca%20href%3D%5C%22http%3A//www.openstreetmap.org/copyright%5C%22%5Cu003eODbL%5Cu003c/a%5Cu003e.%22%2C%20%22detectRetina%22%3A%20false%2C%20%22maxNativeZoom%22%3A%2018%2C%20%22maxZoom%22%3A%2018%2C%20%22minZoom%22%3A%200%2C%20%22noWrap%22%3A%20false%2C%20%22opacity%22%3A%201%2C%20%22subdomains%22%3A%20%22abc%22%2C%20%22tms%22%3A%20false%7D%0A%20%20%20%20%20%20%20%20%20%20%20%20%29.addTo%28map_cfd9ebe7f66f48a8afee2d671842df8a%29%3B%0A%20%20%20%20%20%20%20%20%0A%20%20%20%20%0A%20%20%20%20%20%20%20%20%20%20%20%20var%20tile_layer_4a5893a56ea6490b8dfaa348ce87448e%20%3D%20L.tileLayer%28%0A%20%20%20%20%20%20%20%20%20%20%20%20%20%20%20%20%22https%3A//mt1.google.com/vt/lyrs%3Dm%5Cu0026x%3D%7Bx%7D%5Cu0026y%3D%7By%7D%5Cu0026z%3D%7Bz%7D%22%2C%0A%20%20%20%20%20%20%20%20%20%20%20%20%20%20%20%20%7B%22attribution%22%3A%20%22Google%22%2C%20%22detectRetina%22%3A%20false%2C%20%22maxNativeZoom%22%3A%2018%2C%20%22maxZoom%22%3A%2018%2C%20%22minZoom%22%3A%200%2C%20%22noWrap%22%3A%20false%2C%20%22opacity%22%3A%201%2C%20%22subdomains%22%3A%20%22abc%22%2C%20%22tms%22%3A%20false%7D%0A%20%20%20%20%20%20%20%20%20%20%20%20%29.addTo%28map_cfd9ebe7f66f48a8afee2d671842df8a%29%3B%0A%20%20%20%20%20%20%20%20%0A%20%20%20%20%0A%20%20%20%20%20%20%20%20%20%20%20%20%20%20%20%20var%20lat_lng_popup_e379688707154790909c7410e02b386d%20%3D%20L.popup%28%29%3B%0A%20%20%20%20%20%20%20%20%20%20%20%20%20%20%20%20function%20latLngPop%28e%29%20%7B%0A%20%20%20%20%20%20%20%20%20%20%20%20%20%20%20%20%20%20%20%20lat_lng_popup_e379688707154790909c7410e02b386d%0A%20%20%20%20%20%20%20%20%20%20%20%20%20%20%20%20%20%20%20%20%20%20%20%20.setLatLng%28e.latlng%29%0A%20%20%20%20%20%20%20%20%20%20%20%20%20%20%20%20%20%20%20%20%20%20%20%20.setContent%28%22Latitude%3A%20%22%20%2B%20e.latlng.lat.toFixed%284%29%20%2B%0A%20%20%20%20%20%20%20%20%20%20%20%20%20%20%20%20%20%20%20%20%20%20%20%20%20%20%20%20%20%20%20%20%20%20%20%20%22%3Cbr%3ELongitude%3A%20%22%20%2B%20e.latlng.lng.toFixed%284%29%29%0A%20%20%20%20%20%20%20%20%20%20%20%20%20%20%20%20%20%20%20%20%20%20%20%20.openOn%28map_cfd9ebe7f66f48a8afee2d671842df8a%29%3B%0A%20%20%20%20%20%20%20%20%20%20%20%20%20%20%20%20%20%20%20%20%7D%0A%20%20%20%20%20%20%20%20%20%20%20%20%20%20%20%20map_cfd9ebe7f66f48a8afee2d671842df8a.on%28%27click%27%2C%20latLngPop%29%3B%0A%20%20%20%20%20%20%20%20%20%20%20%20%0A%20%20%20%20%0A%20%20%20%20%20%20%20%20%20%20%20%20L.control.fullscreen%28%0A%20%20%20%20%20%20%20%20%20%20%20%20%20%20%20%20%7B%22forceSeparateButton%22%3A%20false%2C%20%22position%22%3A%20%22topleft%22%2C%20%22title%22%3A%20%22Full%20Screen%22%2C%20%22titleCancel%22%3A%20%22Exit%20Full%20Screen%22%7D%0A%20%20%20%20%20%20%20%20%20%20%20%20%29.addTo%28map_cfd9ebe7f66f48a8afee2d671842df8a%29%3B%0A%20%20%20%20%20%20%20%20%0A%20%20%20%20%0A%20%20%20%20%20%20%20%20%20%20%20%20map_cfd9ebe7f66f48a8afee2d671842df8a.fitBounds%28%0A%20%20%20%20%20%20%20%20%20%20%20%20%20%20%20%20%5B%5B20%2C%200%5D%2C%20%5B20%2C%200%5D%5D%2C%0A%20%20%20%20%20%20%20%20%20%20%20%20%20%20%20%20%7B%22maxZoom%22%3A%202%7D%0A%20%20%20%20%20%20%20%20%20%20%20%20%29%3B%0A%20%20%20%20%20%20%20%20%0A%20%20%20%20%0A%20%20%20%20%20%20%20%20%20%20%20%20map_cfd9ebe7f66f48a8afee2d671842df8a.fitBounds%28%0A%20%20%20%20%20%20%20%20%20%20%20%20%20%20%20%20%5B%5B0.26391961618987597%2C%2034.88164680865949%5D%2C%20%5B0.26391961618987597%2C%2034.88164680865949%5D%5D%2C%0A%20%20%20%20%20%20%20%20%20%20%20%20%20%20%20%20%7B%22maxZoom%22%3A%2012%7D%0A%20%20%20%20%20%20%20%20%20%20%20%20%29%3B%0A%20%20%20%20%20%20%20%20%0A%20%20%20%20%0A%20%20%20%20%20%20%20%20%20%20%20%20var%20tile_layer_2cffc83d23964dd694822f4e9f108675%20%3D%20L.tileLayer%28%0A%20%20%20%20%20%20%20%20%20%20%20%20%20%20%20%20%22https%3A//earthengine.googleapis.com/v1alpha/projects/earthengine-legacy/maps/061ec0c54dab2594b3da088a383670ee-7cb2ac5bfa6c4f2dcab553522fc96271/tiles/%7Bz%7D/%7Bx%7D/%7By%7D%22%2C%0A%20%20%20%20%20%20%20%20%20%20%20%20%20%20%20%20%7B%22attribution%22%3A%20%22Google%20Earth%20Engine%22%2C%20%22detectRetina%22%3A%20false%2C%20%22maxNativeZoom%22%3A%2018%2C%20%22maxZoom%22%3A%2018%2C%20%22minZoom%22%3A%200%2C%20%22noWrap%22%3A%20false%2C%20%22opacity%22%3A%201.0%2C%20%22subdomains%22%3A%20%22abc%22%2C%20%22tms%22%3A%20false%7D%0A%20%20%20%20%20%20%20%20%20%20%20%20%29.addTo%28map_cfd9ebe7f66f48a8afee2d671842df8a%29%3B%0A%20%20%20%20%20%20%20%20%0A%20%20%20%20%0A%20%20%20%20%20%20%20%20%20%20%20%20var%20layer_control_ad52c0b24fad44ab888096418166e745%20%3D%20%7B%0A%20%20%20%20%20%20%20%20%20%20%20%20%20%20%20%20base_layers%20%3A%20%7B%0A%20%20%20%20%20%20%20%20%20%20%20%20%20%20%20%20%20%20%20%20%22openstreetmap%22%20%3A%20tile_layer_02c827dd39d24b7faaccd92c3e9320b0%2C%0A%20%20%20%20%20%20%20%20%20%20%20%20%20%20%20%20%7D%2C%0A%20%20%20%20%20%20%20%20%20%20%20%20%20%20%20%20overlays%20%3A%20%20%7B%0A%20%20%20%20%20%20%20%20%20%20%20%20%20%20%20%20%20%20%20%20%22Google%20Maps%22%20%3A%20tile_layer_4a5893a56ea6490b8dfaa348ce87448e%2C%0A%20%20%20%20%20%20%20%20%20%20%20%20%20%20%20%20%20%20%20%20%22ndvi%22%20%3A%20tile_layer_2cffc83d23964dd694822f4e9f108675%2C%0A%20%20%20%20%20%20%20%20%20%20%20%20%20%20%20%20%7D%2C%0A%20%20%20%20%20%20%20%20%20%20%20%20%7D%3B%0A%20%20%20%20%20%20%20%20%20%20%20%20L.control.layers%28%0A%20%20%20%20%20%20%20%20%20%20%20%20%20%20%20%20layer_control_ad52c0b24fad44ab888096418166e745.base_layers%2C%0A%20%20%20%20%20%20%20%20%20%20%20%20%20%20%20%20layer_control_ad52c0b24fad44ab888096418166e745.overlays%2C%0A%20%20%20%20%20%20%20%20%20%20%20%20%20%20%20%20%7B%22autoZIndex%22%3A%20true%2C%20%22collapsed%22%3A%20true%2C%20%22position%22%3A%20%22topright%22%7D%0A%20%20%20%20%20%20%20%20%20%20%20%20%29.addTo%28map_cfd9ebe7f66f48a8afee2d671842df8a%29%3B%0A%20%20%20%20%20%20%20%20%0A%3C/script%3E onload=\"this.contentDocument.open();this.contentDocument.write(    decodeURIComponent(this.getAttribute('data-html')));this.contentDocument.close();\" allowfullscreen webkitallowfullscreen mozallowfullscreen></iframe></div></div>"
            ]
          },
          "metadata": {},
          "execution_count": 55
        }
      ],
      "source": [
        "m = geemap.Map()\n",
        "m.centerObject(geometry, 12)\n",
        "m.addLayer(kakamegaCroplands.select('NDVI'), vis, 'ndvi')\n",
        "\n",
        "m"
      ]
    }
  ],
  "metadata": {
    "colab": {
      "name": "Crophealth & Water Stress.ipynb",
      "provenance": [],
      "authorship_tag": "ABX9TyMLoVfK9L9coXBkB9QmrEa5",
      "include_colab_link": true
    },
    "kernelspec": {
      "display_name": "Python 3",
      "name": "python3"
    },
    "language_info": {
      "name": "python"
    }
  },
  "nbformat": 4,
  "nbformat_minor": 0
}